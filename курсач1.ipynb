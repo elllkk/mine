{
 "cells": [
  {
   "cell_type": "code",
   "execution_count": 89,
   "metadata": {},
   "outputs": [],
   "source": [
    "# -*- coding: utf-8 -*-\n",
    "import numpy as np\n",
    "from numpy import *\n",
    "import pandas as pd\n",
    "import re\n",
    "import os"
   ]
  },
  {
   "cell_type": "code",
   "execution_count": 90,
   "metadata": {},
   "outputs": [],
   "source": [
    "try:\n",
    "    os.chdir('data')\n",
    "except:\n",
    "    pass"
   ]
  },
  {
   "cell_type": "code",
   "execution_count": 105,
   "metadata": {},
   "outputs": [],
   "source": [
    "class Data: \n",
    "    __NUMBER_OF_DATA = 1440\n",
    "    __NAME_OF_LAST_COLUMNS = ''\n",
    "    __slots__ = ['_name_of_file','_reference','_x','_y','_z','_f','_date','_time','_doy','_time_series','_X_NAME','_Y_NAME','_Z_NAME']\n",
    "    def __init__(self, f):\n",
    "        self._name_of_file = str(f)\n",
    "        self._SetAllData() \n",
    "        self.__ProcessData()\n",
    "        \n",
    "    def __str__(self):\n",
    "        return self.name\n",
    "\n",
    "    #_did_not_dissapear = 0\n",
    "    def ShowHists(self):\n",
    "        print(self._time_series[self._X_NAME].hist())\n",
    "        print(self._time_series[self._Y_NAME].hist())\n",
    "        print(self._time_series[self._Z_NAME].hist())\n",
    "        \n",
    "    def _SetAllData(self):\n",
    "        #bring all to the lower case\n",
    "        data = pd.read_csv(self._name_of_file, delimiter = '\\n', dtype = 'str', sep = None, header = None)\n",
    "        data = np.array(data)\n",
    "        for i in range (len(data)):\n",
    "            for j in range(len(data[i])):\n",
    "                data[i][j] = (data[i][j]).lower()\n",
    "        data = pd.DataFrame(data)\n",
    "        #select the reference\n",
    "        self._reference = data[1:13]\n",
    "        #select the head of the table\n",
    "        head = str(data.loc[len(data)-(self.__NUMBER_OF_DATA+1)][0]).split()\n",
    "        head.pop()\n",
    "        __NAME_OF_LAST_COLUMNS = head[-4:]\n",
    "        #select the data\n",
    "        temp_data = np.loadtxt(str(self._name_of_file), delimiter = '\\n', dtype=str)\n",
    "        self._date, self._time, self._doy = np.loadtxt(temp_data[-self.__NUMBER_OF_DATA:], dtype=str, usecols=[0, 1, 2], unpack=True)\n",
    "        self._x,self._y,self._z,self._f = np.loadtxt(temp_data[-self.__NUMBER_OF_DATA:], dtype=float, usecols=[3,4,5,6], unpack=True)\n",
    "        #make the table\n",
    "        data = pd.DataFrame({head[0]:self._date, head[1]:self._time, head[2]:self._doy, head[3]:self._x, head[4]:self._y, head[5]:self._z, head[6]:self._f})\n",
    "        data = data[-(self.__NUMBER_OF_DATA+1):]\n",
    "        data = data[head]\n",
    "        self._X_NAME = head[-4]\n",
    "        self._Y_NAME = head[-3]\n",
    "        self._Z_NAME = head[-2]\n",
    "        #print(self._X_NAME)\n",
    "        self._time_series = data\n",
    "        #print(data[data[__NAME_OF_LAST_COLUMNS[0]==99999.0][1]])\n",
    "        return data\n",
    "    @property\n",
    "    def Time_series(self):\n",
    "        return self._time_series \n",
    "    @property\n",
    "    def X(self):\n",
    "        return self._x\n",
    "    @property\n",
    "    def Y(self):\n",
    "        return self._y\n",
    "    @property\n",
    "    def Z(self):\n",
    "        return self._z\n",
    "    @property\n",
    "    def Date(self):\n",
    "        return self._date\n",
    "    @property\n",
    "    def Time(self):\n",
    "        return self._time\n",
    "    @property\n",
    "    def Doy(self):\n",
    "        return self._doy\n",
    "    @property\n",
    "    def Reference(self):\n",
    "        return self._reference\n",
    "    @property\n",
    "    def Name_of_file(self):\n",
    "        return self._name_of_file\n",
    "    \n",
    "    def __DeleteNulls(self, values):\n",
    "        values1 = []\n",
    "        for i in values:\n",
    "                values1.append(i)\n",
    "        while(values1.count(99999.0) > 0):\n",
    "            values1.remove(99999.0)\n",
    "        while(values1.count(88888.0) > 0):\n",
    "            values1.remove(88888.0)\n",
    "        return np.array(values1)\n",
    "    \n",
    "    def __ProcessData(self):\n",
    "        #ф-я удаления нулевых значений\n",
    "        self._x = self.__DeleteNulls(self._x)\n",
    "        self._y = self.__DeleteNulls(self._y)\n",
    "        self._z = self.__DeleteNulls(self._z)\n",
    "        #print(self.x)\n"
   ]
  },
  {
   "cell_type": "code",
   "execution_count": null,
   "metadata": {},
   "outputs": [],
   "source": []
  },
  {
   "cell_type": "code",
   "execution_count": 106,
   "metadata": {},
   "outputs": [
    {
     "name": "stdout",
     "output_type": "stream",
     "text": [
      "<class 'numpy.ndarray'>\n",
      "Axes(0.125,0.125;0.775x0.755)\n",
      "Axes(0.125,0.125;0.775x0.755)\n",
      "Axes(0.125,0.125;0.775x0.755)\n"
     ]
    },
    {
     "data": {
      "image/png": "[encoded data removed]",
      "text/plain": [
       "<matplotlib.figure.Figure at 0x7fc256b89780>"
      ]
     },
     "metadata": {},
     "output_type": "display_data"
    }
   ],
   "source": [
    "d = Data('abk20170827vmin.min')\n",
    "d.ShowHists()"
   ]
  },
  {
   "cell_type": "code",
   "execution_count": 45,
   "metadata": {},
   "outputs": [],
   "source": [
    "import matplotlib.pyplot as plt\n",
    "%matplotlib inline\n",
    "\n",
    "def show_plot(x, y, z):\n",
    "    fig1 = plt.figure(figsize=(16, 8))\n",
    "    xy=plt.scatter(x, y)\n",
    "    #zy=plt.scatter(z, y)\n",
    "    #xz=plt.scatter(x, z)\n",
    "    plt.xlabel('X')\n",
    "    plt.ylabel('Y')\n",
    "    #plt.ylabel('Z')\n",
    "    plt.legend([xy], ['XY'])\n",
    "    plt.show()\n",
    "    \n",
    "    \n",
    "    fig1 = plt.figure(figsize=(16, 8))\n",
    "    #xy=plt.scatter(x, y)\n",
    "    zy=plt.scatter(z, y)\n",
    "    #xz=plt.scatter(x, z)\n",
    "    plt.xlabel('Z')\n",
    "    plt.ylabel('Y')\n",
    "    #plt.ylabel('Z')\n",
    "    plt.legend([zy], ['ZY'])\n",
    "    plt.show()\n",
    "    \n",
    "    fig1 = plt.figure(figsize=(16, 8))\n",
    "    #xy=plt.scatter(x, y)\n",
    "    #zy=plt.scatter(z, y)\n",
    "    xz=plt.scatter(x, z)\n",
    "    plt.xlabel('X')\n",
    "    plt.ylabel('Z')\n",
    "    #plt.ylabel('Z')\n",
    "    plt.legend([xz], ['XZ'])\n",
    "    plt.show()\n",
    "    "
   ]
  },
  {
   "cell_type": "code",
   "execution_count": 54,
   "metadata": {},
   "outputs": [
    {
     "name": "stdout",
     "output_type": "stream",
     "text": [
      "\n"
     ]
    },
    {
     "data": {
      "image/png": "[encoded data removed]",
      "text/plain": [
       "<matplotlib.figure.Figure at 0x7f1c42c144a8>"
      ]
     },
     "metadata": {},
     "output_type": "display_data"
    },
    {
     "data": {
      "image/png": "[encoded data removed]",
      "text/plain": [
       "<matplotlib.figure.Figure at 0x7f1c42e77c88>"
      ]
     },
     "metadata": {},
     "output_type": "display_data"
    },
    {
     "data": {
      "image/png": "[encoded data removed]",
      "text/plain": [
       "<matplotlib.figure.Figure at 0x7f1c42c309b0>"
      ]
     },
     "metadata": {},
     "output_type": "display_data"
    }
   ],
   "source": [
    "d = Data('abk20170827vmin.min')\n",
    "show_plot(list(d.X),list(d.Y),list(d.Z))"
   ]
  },
  {
   "cell_type": "code",
   "execution_count": null,
   "metadata": {},
   "outputs": [],
   "source": []
  },
  {
   "cell_type": "code",
   "execution_count": 41,
   "metadata": {},
   "outputs": [
    {
     "name": "stderr",
     "output_type": "stream",
     "text": [
      "Using Theano backend.\n"
     ]
    }
   ],
   "source": [
    "from keras.models import Sequential\n",
    "from keras.layers.core import Dense, Activation\n",
    "from keras.optimizers import SGD"
   ]
  },
  {
   "cell_type": "code",
   "execution_count": 42,
   "metadata": {},
   "outputs": [
    {
     "ename": "NameError",
     "evalue": "name 'TrainData' is not defined",
     "output_type": "error",
     "traceback": [
      "\u001b[0;31m---------------------------------------------------------------------------\u001b[0m",
      "\u001b[0;31mNameError\u001b[0m                                 Traceback (most recent call last)",
      "\u001b[0;32m<ipython-input-42-80bff13b5c98>\u001b[0m in \u001b[0;36m<module>\u001b[0;34m()\u001b[0m\n\u001b[0;32m----> 1\u001b[0;31m \u001b[0mTrainData\u001b[0m\u001b[0;34m(\u001b[0m\u001b[0;34m)\u001b[0m\u001b[0;34m\u001b[0m\u001b[0m\n\u001b[0m",
      "\u001b[0;31mNameError\u001b[0m: name 'TrainData' is not defined"
     ]
    }
   ],
   "source": [
    "TrainData()"
   ]
  },
  {
   "cell_type": "code",
   "execution_count": 43,
   "metadata": {},
   "outputs": [
    {
     "name": "stdout",
     "output_type": "stream",
     "text": [
      "(3, 2)\n"
     ]
    }
   ],
   "source": [
    "X_train = np.array ([[1,2], [6,5], [8,2]]) \n",
    "y_train = np.array ([2,3,7]) \n",
    "input_dim = X_train.shape \n",
    "print(input_dim)"
   ]
  },
  {
   "cell_type": "code",
   "execution_count": null,
   "metadata": {},
   "outputs": [],
   "source": []
  },
  {
   "cell_type": "code",
   "execution_count": null,
   "metadata": {},
   "outputs": [],
   "source": []
  },
  {
   "cell_type": "code",
   "execution_count": null,
   "metadata": {},
   "outputs": [],
   "source": []
  },
  {
   "cell_type": "code",
   "execution_count": null,
   "metadata": {},
   "outputs": [],
   "source": []
  },
  {
   "cell_type": "code",
   "execution_count": null,
   "metadata": {},
   "outputs": [],
   "source": []
  },
  {
   "cell_type": "code",
   "execution_count": null,
   "metadata": {},
   "outputs": [],
   "source": []
  },
  {
   "cell_type": "code",
   "execution_count": null,
   "metadata": {},
   "outputs": [],
   "source": []
  },
  {
   "cell_type": "code",
   "execution_count": null,
   "metadata": {},
   "outputs": [],
   "source": []
  },
  {
   "cell_type": "code",
   "execution_count": null,
   "metadata": {},
   "outputs": [],
   "source": []
  },
  {
   "cell_type": "code",
   "execution_count": null,
   "metadata": {},
   "outputs": [],
   "source": []
  },
  {
   "cell_type": "code",
   "execution_count": 389,
   "metadata": {},
   "outputs": [],
   "source": [
    "import matplotlib.pyplot as plt\n",
    "%matplotlib inline\n",
    "plt.style.use('ggplot')#beaut. grap."
   ]
  },
  {
   "cell_type": "code",
   "execution_count": 308,
   "metadata": {},
   "outputs": [],
   "source": [
    "def showPlot(x,y,z):\n",
    "    "
   ]
  },
  {
   "cell_type": "code",
   "execution_count": 66,
   "metadata": {},
   "outputs": [],
   "source": [
    "def getNumberOfStations():    \n",
    "    data = {}\n",
    "    allfiles = os.listdir('.')\n",
    "    allfiles.remove('log.txt')\n",
    "    allfiles.remove('conditions_of_use.txt')\n",
    "    for f in allfiles:\n",
    "        try:\n",
    "            d = Data(f)\n",
    "        except:\n",
    "            print(f)\n",
    "    #print(allfiles[0])\n",
    "    #print(d.__GetData())\n",
    "    #print(d.GetNameOfFile())\n",
    "        "
   ]
  },
  {
   "cell_type": "code",
   "execution_count": 179,
   "metadata": {},
   "outputs": [],
   "source": []
  },
  {
   "cell_type": "code",
   "execution_count": 329,
   "metadata": {},
   "outputs": [
    {
     "data": {
      "text/plain": [
       "'0     station name           hel observatory       ...'"
      ]
     },
     "execution_count": 329,
     "metadata": {},
     "output_type": "execute_result"
    }
   ],
   "source": [
    "('0     station name           hel observatory       ...'.split(r'(\\w*)(\\s{2,})(\\w*)')[0])\n"
   ]
  },
  {
   "cell_type": "code",
   "execution_count": null,
   "metadata": {},
   "outputs": [],
   "source": [
    "data = pd.read_csv('cmo20170827vmin.min', delimiter = '\\n', dtype = 'str', sep = None, \n",
    "                    header = None)\n",
    "#print(data)\n",
    "word = 'Station Name'\n",
    "res = re.search(word + \"(\\s*)(\\w*)\", str(data))\n",
    "print(res.group(0))"
   ]
  },
  {
   "cell_type": "code",
   "execution_count": 94,
   "metadata": {},
   "outputs": [
    {
     "ename": "ValueError",
     "evalue": "could not convert string to float: Format",
     "output_type": "error",
     "traceback": [
      "\u001b[0;31m---------------------------------------------------------------------------\u001b[0m\n\u001b[0;31mValueError\u001b[0m                                Traceback (most recent call last)",
      "\u001b[0;32m<ipython-input-94-8c008f1c735d>\u001b[0m in \u001b[0;36m<module>\u001b[0;34m()\u001b[0m\n\u001b[0;32m----> 1\u001b[0;31m \u001b[0mdata\u001b[0m \u001b[0;34m=\u001b[0m \u001b[0;34m(\u001b[0m\u001b[0mstr\u001b[0m\u001b[0;34m(\u001b[0m\u001b[0mnp\u001b[0m\u001b[0;34m.\u001b[0m\u001b[0mloadtxt\u001b[0m\u001b[0;34m(\u001b[0m\u001b[0;34m'cmo20170827vmin.min'\u001b[0m\u001b[0;34m)\u001b[0m\u001b[0;34m)\u001b[0m\u001b[0;34m)\u001b[0m\u001b[0;34m.\u001b[0m\u001b[0mlower\u001b[0m\u001b[0;34m(\u001b[0m\u001b[0;34m)\u001b[0m\u001b[0;34m\u001b[0m\u001b[0m\n\u001b[0m\u001b[1;32m      2\u001b[0m \u001b[0;32mdef\u001b[0m \u001b[0mParse\u001b[0m\u001b[0;34m(\u001b[0m\u001b[0mword\u001b[0m\u001b[0;34m)\u001b[0m\u001b[0;34m:\u001b[0m\u001b[0;34m\u001b[0m\u001b[0m\n\u001b[1;32m      3\u001b[0m     \u001b[0;32mprint\u001b[0m\u001b[0;34m(\u001b[0m\u001b[0mword\u001b[0m\u001b[0;34m)\u001b[0m\u001b[0;34m\u001b[0m\u001b[0m\n\u001b[1;32m      4\u001b[0m     \u001b[0;32mprint\u001b[0m\u001b[0;34m(\u001b[0m\u001b[0mdata\u001b[0m\u001b[0;34m)\u001b[0m\u001b[0;34m\u001b[0m\u001b[0m\n\u001b[1;32m      5\u001b[0m     \u001b[0mres\u001b[0m \u001b[0;34m=\u001b[0m \u001b[0mre\u001b[0m\u001b[0;34m.\u001b[0m\u001b[0msearch\u001b[0m\u001b[0;34m(\u001b[0m\u001b[0mword\u001b[0m \u001b[0;34m+\u001b[0m \u001b[0;34m\"(\\s*)(\\w*)\"\u001b[0m\u001b[0;34m,\u001b[0m \u001b[0mdata\u001b[0m\u001b[0;34m)\u001b[0m\u001b[0;34m\u001b[0m\u001b[0m\n",
      "\u001b[0;32m/usr/local/lib/python2.7/dist-packages/numpy/lib/npyio.pyc\u001b[0m in \u001b[0;36mloadtxt\u001b[0;34m(fname, dtype, comments, delimiter, converters, skiprows, usecols, unpack, ndmin)\u001b[0m\n\u001b[1;32m   1022\u001b[0m \u001b[0;34m\u001b[0m\u001b[0m\n\u001b[1;32m   1023\u001b[0m             \u001b[0;31m# Convert each value according to its column and store\u001b[0m\u001b[0;34m\u001b[0m\u001b[0;34m\u001b[0m\u001b[0m\n\u001b[0;32m-> 1024\u001b[0;31m             \u001b[0mitems\u001b[0m \u001b[0;34m=\u001b[0m \u001b[0;34m[\u001b[0m\u001b[0mconv\u001b[0m\u001b[0;34m(\u001b[0m\u001b[0mval\u001b[0m\u001b[0;34m)\u001b[0m \u001b[0;32mfor\u001b[0m \u001b[0;34m(\u001b[0m\u001b[0mconv\u001b[0m\u001b[0;34m,\u001b[0m \u001b[0mval\u001b[0m\u001b[0;34m)\u001b[0m \u001b[0;32min\u001b[0m \u001b[0mzip\u001b[0m\u001b[0;34m(\u001b[0m\u001b[0mconverters\u001b[0m\u001b[0;34m,\u001b[0m \u001b[0mvals\u001b[0m\u001b[0;34m)\u001b[0m\u001b[0;34m]\u001b[0m\u001b[0;34m\u001b[0m\u001b[0m\n\u001b[0m\u001b[1;32m   1025\u001b[0m             \u001b[0;31m# Then pack it according to the dtype's nesting\u001b[0m\u001b[0;34m\u001b[0m\u001b[0;34m\u001b[0m\u001b[0m\n\u001b[1;32m   1026\u001b[0m             \u001b[0mitems\u001b[0m \u001b[0;34m=\u001b[0m \u001b[0mpack_items\u001b[0m\u001b[0;34m(\u001b[0m\u001b[0mitems\u001b[0m\u001b[0;34m,\u001b[0m \u001b[0mpacking\u001b[0m\u001b[0;34m)\u001b[0m\u001b[0;34m\u001b[0m\u001b[0m\n",
      "\u001b[0;32m/usr/local/lib/python2.7/dist-packages/numpy/lib/npyio.pyc\u001b[0m in \u001b[0;36mfloatconv\u001b[0;34m(x)\u001b[0m\n\u001b[1;32m    723\u001b[0m         \u001b[0;32mif\u001b[0m \u001b[0;34mb'0x'\u001b[0m \u001b[0;32min\u001b[0m \u001b[0mx\u001b[0m\u001b[0;34m:\u001b[0m\u001b[0;34m\u001b[0m\u001b[0m\n\u001b[1;32m    724\u001b[0m             \u001b[0;32mreturn\u001b[0m \u001b[0mfloat\u001b[0m\u001b[0;34m.\u001b[0m\u001b[0mfromhex\u001b[0m\u001b[0;34m(\u001b[0m\u001b[0masstr\u001b[0m\u001b[0;34m(\u001b[0m\u001b[0mx\u001b[0m\u001b[0;34m)\u001b[0m\u001b[0;34m)\u001b[0m\u001b[0;34m\u001b[0m\u001b[0m\n\u001b[0;32m--> 725\u001b[0;31m         \u001b[0;32mreturn\u001b[0m \u001b[0mfloat\u001b[0m\u001b[0;34m(\u001b[0m\u001b[0mx\u001b[0m\u001b[0;34m)\u001b[0m\u001b[0;34m\u001b[0m\u001b[0m\n\u001b[0m\u001b[1;32m    726\u001b[0m \u001b[0;34m\u001b[0m\u001b[0m\n\u001b[1;32m    727\u001b[0m     \u001b[0mtyp\u001b[0m \u001b[0;34m=\u001b[0m \u001b[0mdtype\u001b[0m\u001b[0;34m.\u001b[0m\u001b[0mtype\u001b[0m\u001b[0;34m\u001b[0m\u001b[0m\n",
      "\u001b[0;31mValueError\u001b[0m: could not convert string to float: Format"
     ]
    }
   ],
   "source": [
    "data = (str(np.loadtxt('cmo20170827vmin.min'))).lower()\n",
    "def Parse(word):\n",
    "    print(word)\n",
    "    print(data)\n",
    "    res = re.search(word + \"(\\s*)(\\w*)\", data)\n",
    "    return res.group(3)\n",
    "   "
   ]
  },
  {
   "cell_type": "code",
   "execution_count": 4,
   "metadata": {},
   "outputs": [
    {
     "name": "stdout",
     "output_type": "stream",
     "text": [
      "2\n"
     ]
    }
   ],
   "source": [
    "import re\n",
    "r = re.search('\\d', '221 f 32')\n",
    "print(r.group(0))"
   ]
  },
  {
   "cell_type": "code",
   "execution_count": 2,
   "metadata": {},
   "outputs": [
    {
     "ename": "NameError",
     "evalue": "name 'np' is not defined",
     "output_type": "error",
     "traceback": [
      "\u001b[0;31m---------------------------------------------------------------------------\u001b[0m\n\u001b[0;31mNameError\u001b[0m                                 Traceback (most recent call last)",
      "\u001b[0;32m<ipython-input-2-43db6c723aa0>\u001b[0m in \u001b[0;36m<module>\u001b[0;34m()\u001b[0m\n\u001b[1;32m      4\u001b[0m \u001b[0;32mexcept\u001b[0m\u001b[0;34m:\u001b[0m\u001b[0;34m\u001b[0m\u001b[0m\n\u001b[1;32m      5\u001b[0m    \u001b[0;32mpass\u001b[0m\u001b[0;34m\u001b[0m\u001b[0m\n\u001b[0;32m----> 6\u001b[0;31m \u001b[0mdata\u001b[0m \u001b[0;34m=\u001b[0m \u001b[0mstr\u001b[0m\u001b[0;34m(\u001b[0m\u001b[0mnp\u001b[0m\u001b[0;34m.\u001b[0m\u001b[0mloadtxt\u001b[0m\u001b[0;34m(\u001b[0m\u001b[0;34m'abk20170827vmin.min'\u001b[0m\u001b[0;34m,\u001b[0m \u001b[0mdelimiter\u001b[0m \u001b[0;34m=\u001b[0m \u001b[0;34m'\\n'\u001b[0m\u001b[0;34m,\u001b[0m \u001b[0mdtype\u001b[0m\u001b[0;34m=\u001b[0m\u001b[0mstr\u001b[0m\u001b[0;34m)\u001b[0m\u001b[0;34m)\u001b[0m\u001b[0;34m\u001b[0m\u001b[0m\n\u001b[0m\u001b[1;32m      7\u001b[0m \u001b[0mres\u001b[0m \u001b[0;34m=\u001b[0m \u001b[0mre\u001b[0m\u001b[0;34m.\u001b[0m\u001b[0msearch\u001b[0m\u001b[0;34m(\u001b[0m\u001b[0;34mr\"(Station Name)(\\s*)(\\w*)\"\u001b[0m\u001b[0;34m,\u001b[0m \u001b[0mdata\u001b[0m\u001b[0;34m)\u001b[0m\u001b[0;34m\u001b[0m\u001b[0m\n\u001b[1;32m      8\u001b[0m \u001b[0;32mprint\u001b[0m\u001b[0;34m(\u001b[0m\u001b[0mres\u001b[0m\u001b[0;34m.\u001b[0m\u001b[0mgroup\u001b[0m\u001b[0;34m(\u001b[0m\u001b[0;36m3\u001b[0m\u001b[0;34m)\u001b[0m\u001b[0;34m)\u001b[0m\u001b[0;34m\u001b[0m\u001b[0m\n",
      "\u001b[0;31mNameError\u001b[0m: name 'np' is not defined"
     ]
    }
   ],
   "source": [
    "import re\n",
    "try:\n",
    "    os.chdir('data')\n",
    "except:\n",
    "   pass\n",
    "data = str(np.loadtxt('abk20170827vmin.min', delimiter = '\\n', dtype=str))\n",
    "res = re.search(r\"(Station Name)(\\s*)(\\w*)\", data)\n",
    "print(res.group(3))\n"
   ]
  },
  {
   "cell_type": "code",
   "execution_count": null,
   "metadata": {},
   "outputs": [],
   "source": []
  },
  {
   "cell_type": "code",
   "execution_count": 8,
   "metadata": {},
   "outputs": [
    {
     "name": "stdout",
     "output_type": "stream",
     "text": [
      "<type 'str'>\n"
     ]
    }
   ],
   "source": [
    "import numpy as np\n",
    "import os\n",
    "#os.chdir('data')\n",
    "d = np.loadtxt('abk20170827vmin.min', delimiter = '\\n', dtype=str)\n",
    "print(type(str(d)))"
   ]
  },
  {
   "cell_type": "code",
   "execution_count": 66,
   "metadata": {},
   "outputs": [],
   "source": [
    " def readCoordsFromOneFile(f):\n",
    "        data = np.loadtxt(str(f), delimiter = '\\n', dtype=str)\n",
    "        x,y,z = np.loadtxt(data[-1440:], dtype=float, usecols=[3,4,5], unpack=True)\n",
    "        return x,y,z"
   ]
  },
  {
   "cell_type": "code",
   "execution_count": 67,
   "metadata": {},
   "outputs": [
    {
     "data": {
      "text/plain": [
       "(array([ 11307.7,  11308. ,  11308. , ...,  99999. ,  99999. ,  99999. ]),\n",
       " array([  1734.5,   1734.5,   1734.4, ...,  99999. ,  99999. ,  99999. ]),\n",
       " array([ 52018.7,  52018.6,  52018.3, ...,  99999. ,  99999. ,  99999. ]))"
      ]
     },
     "execution_count": 67,
     "metadata": {},
     "output_type": "execute_result"
    }
   ],
   "source": [
    "readCoordsFromOneFile('abk20170827vmin.min')"
   ]
  },
  {
   "cell_type": "code",
   "execution_count": 18,
   "metadata": {},
   "outputs": [],
   "source": [
    "def readAllCoords():\n",
    "    data = {}\n",
    "    try:\n",
    "        os.chdir('data')\n",
    "    except:\n",
    "       pass\n",
    "\n",
    "    allfiles = os.listdir('.') \n",
    "    i = 0\n",
    "    for f in allfiles:\n",
    "        try:\n",
    "            d = Data(f)\n",
    "        except:\n",
    "           pass        \n",
    "    return data"
   ]
  },
  {
   "cell_type": "code",
   "execution_count": 19,
   "metadata": {},
   "outputs": [
    {
     "data": {
      "text/plain": [
       "{}"
      ]
     },
     "execution_count": 19,
     "metadata": {},
     "output_type": "execute_result"
    }
   ],
   "source": [
    "readAllCoords()"
   ]
  },
  {
   "cell_type": "code",
   "execution_count": 57,
   "metadata": {},
   "outputs": [
    {
     "name": "stdout",
     "output_type": "stream",
     "text": [
      "tuc20170827vmin.min\n",
      "bel20170827vmin.min\n",
      "hua20170827vmin.min\n",
      "pst20170827pmin.min\n",
      "lrm20170827pmin.min\n",
      "tam20170827vmin.min\n",
      "fur20170827vmin.min\n",
      "frd20170827vmin.min\n",
      "pag20170827pmin.min\n",
      "sod20170827vmin.min\n",
      "lon20170827vmin.min\n",
      "bsl20170827vmin.min\n",
      "hlp20170827vmin.min\n",
      "hrn20170827vmin.min\n",
      "phu20170827vmin.min\n",
      "lyc20170827vmin.min\n",
      "eyr20170827pmin.min\n",
      "ded20170827vmin.min\n",
      "asc20170827pmin.min\n",
      "shu20170827vmin.min\n",
      "cki20170827pmin.min\n",
      "new20170827vmin.min\n",
      "ppt20170827vmin.min\n",
      "frn20170827vmin.min\n",
      "mcq20170827pmin.min\n",
      "cnb20170827pmin.min\n",
      "asp20170827pmin.min\n",
      "sua20170827pmin.min\n",
      "kdu20170827pmin.min\n",
      "dlt20170827vmin.min\n",
      "wic20170827pmin.min\n",
      "sba20170827pmin.min\n",
      "brd20170827vmin.min\n",
      "ngk20170827pmin.min\n",
      "dou20170827vmin.min\n",
      "nur20170827pmin.min\n",
      "sfs20170827vmin.min\n",
      "brw20170827vmin.min\n",
      "teo20170827vmin.min\n",
      "gui20170827vmin.min\n",
      "abk20170827vmin.min\n",
      "maw20170827pmin.min\n",
      "ups20170827vmin.min\n",
      "sbl20170827pmin.min\n",
      "cta20170827pmin.min\n",
      "gua20170827vmin.min\n",
      "gan20170827vmin.min\n",
      "kou20170827vmin.min\n",
      "cmo20170827vmin.min\n",
      "gng20170827pmin.min\n",
      "clf20170827vmin.min\n",
      "mbo20170827vmin.min\n",
      "bou20170827vmin.min\n",
      "hon20170827vmin.min\n",
      "sit20170827vmin.min\n",
      "vss20170827pmin.min\n",
      "spt20170827vmin.min\n",
      "csy20170827pmin.min\n",
      "ebr20170827vmin.min\n",
      "kep20170827pmin.min\n",
      "wng20170827pmin.min\n",
      "ipm20170827vmin.min\n",
      "sjg20170827vmin.min\n",
      "api20170827pmin.min\n"
     ]
    }
   ],
   "source": [
    "\n",
    "for key in data.keys():\n",
    "    print(key)"
   ]
  },
  {
   "cell_type": "code",
   "execution_count": null,
   "metadata": {},
   "outputs": [],
   "source": []
  },
  {
   "cell_type": "code",
   "execution_count": null,
   "metadata": {},
   "outputs": [],
   "source": []
  }
 ],
 "metadata": {
  "kernelspec": {
   "display_name": "Python 3",
   "language": "python",
   "name": "python3"
  },
  "language_info": {
   "codemirror_mode": {
    "name": "ipython",
    "version": 3
   },
   "file_extension": ".py",
   "mimetype": "text/x-python",
   "name": "python",
   "nbconvert_exporter": "python",
   "pygments_lexer": "ipython3",
   "version": "3.5.2"
  }
 },
 "nbformat": 4,
 "nbformat_minor": 1
}
