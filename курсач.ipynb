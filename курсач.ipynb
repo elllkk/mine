{
 "metadata": {
  "name": "",
  "signature": "sha256:d5ed471d2aa862b2105ddf1c7694fdce164fa0c8557c3a58175bf671703dc74d"
 },
 "nbformat": 3,
 "nbformat_minor": 0,
 "worksheets": [
  {
   "cells": [
    {
     "cell_type": "code",
     "collapsed": false,
     "input": [
      "# -*- coding: utf-8 -*-\n",
      "import numpy as np\n",
      "import pandas as pd\n",
      "import re\n",
      "import os\n",
      "OTHER_DOCS = ''"
     ],
     "language": "python",
     "metadata": {},
     "outputs": [],
     "prompt_number": 253
    },
    {
     "cell_type": "code",
     "collapsed": false,
     "input": [
      "try:\n",
      "    os.chdir('data')\n",
      "except:\n",
      "   pass"
     ],
     "language": "python",
     "metadata": {},
     "outputs": [],
     "prompt_number": 254
    },
    {
     "cell_type": "code",
     "collapsed": false,
     "input": [
      "class Data: \n",
      "    __nameOfFile = ''\n",
      "    __coords = []\n",
      "    __format = ''\n",
      "    __sourceOfData = ''\n",
      "    __stationName = ''\n",
      "    __iagaCode = ''\n",
      "    __geodeticLatitude = ''\n",
      "    __geodeticLongitude = ''\n",
      "    __elevation = ''\n",
      "    __reported = ''\n",
      "    __sensorOrientation = ''\n",
      "    __digitalSampling = ''\n",
      "    __dataIntervalType = ''\n",
      "    __dataType = ''\n",
      "    __publicationDate = ''\n",
      "    __data = ''\n",
      "       \n",
      "    def __Parse(self, word):\n",
      "        print(self.__data)\n",
      "        res = re.search(word + \"(\\s*)(\\w*)\", self.__data)\n",
      "        #print(str(self.__data))\n",
      "        #try:\n",
      "         #   return res.group(3)\n",
      "        #except:\n",
      "        #    return 1\n",
      "    def __SetStationName(self):\n",
      "        self.__stationName = self.__Parse(\"station name\")\n",
      "    def __SetFormat(self):\n",
      "        self.__format = self.__Parse(\"format\")\n",
      "    def __SetGeodeticLatitude(self):\n",
      "        self.__geodeticLatitude = self.__Parse(\"geodetic latitude\")\n",
      "    def __SetGeodeticLongitude(self):\n",
      "        self.__geodeticLongitude = self.__Parse(\"geodetic longitude\")\n",
      "    def __SetElevation(self):\n",
      "        self.__elevation = self.__Parse(\"elevation\")\n",
      "    def __SetReporterd(self):\n",
      "        self.__reported = self.__Parse(\"reported\")\n",
      "    def __SetSensorOrientation(self):\n",
      "        self.__sensorOrientation = self.__Parse(\"sensor orientation\")\n",
      "    def __SetDigitalSampling(self):\n",
      "        self.__digitalSampling = self.__Parse(\"digital sampling\")\n",
      "    def __SetDataIntervalType(self):\n",
      "        self.__dataIntervalType = self.__Parse(\"data interval type\")        \n",
      "    def __SetDataType(self):\n",
      "        self.__dataType = self.__Parse(\"data type\")\n",
      "    def __SetPublicationDate(self):\n",
      "        self.__publicationDate = self.__Parse(\"publication date\")\n",
      "    def __SetIagaCode(self):\n",
      "        self.__iagaCode = self.__Parse(\"iaga code\")\n",
      "    def __SetSourceOfData(self):\n",
      "        self.__sourceOfData = self.__Parse(\"source of data\")\n",
      "    def __SetNameOfFile(self):\n",
      "        self.__nameOfFile = self.__Parse(\"name of file\")\n",
      "    def __SetStationName(self):\n",
      "        self.__stationName = self.__Parse(\"station name\")\n",
      "    def __SetCoords(self):\n",
      "        self.__coords = self.__Parse(\"coords\")\n",
      "    def __SetData(self):\n",
      "        #self.__data = np.loadtxt(self.__nameOfFile)\n",
      "        f = open(self.__nameOfFile,'r')\n",
      "        w = str(f.readlines())\n",
      "        #print(type(w.lower()))\n",
      "        self.__data = w.lower()\n",
      "        #print(type(self.__data))\n",
      "        \n",
      "    def GetGeodeticLatitude(self):\n",
      "        pass\n",
      "        #return self.__geodeticLatitude\n",
      "    def GetGeodeticLongitude(self):\n",
      "        return self.__geodeticLongitude\n",
      "    def GetElevation(self):\n",
      "        return self.__elevation\n",
      "    def GetReporterd(self):\n",
      "        return self.__reported\n",
      "    def GetSensorOrientation(self):\n",
      "        return self.__sensorOrientation\n",
      "    def GetDigitalSampling(self): \n",
      "        return self.__digitalSampling\n",
      "    def GetDataIntervalType(self):\n",
      "        return self.__dataIntervalType\n",
      "    def GetDataType(self):    \n",
      "        return self.__dataType\n",
      "    def GetPublicationDate(self):\n",
      "        return self.__publicationDate\n",
      "    def GetIagaCode(self):\n",
      "        return self.__iagaCode\n",
      "    def __GetSourceOfData(self):\n",
      "        return self.__sourceOfData\n",
      "    def __GetFormat(self): \n",
      "        return self.__format\n",
      "    def GetNameOfFile(self):\n",
      "        return self.__nameOfFile\n",
      "    def GetStationName(self):\n",
      "        return self.__stationName\n",
      "    def GetCoords(self):\n",
      "        return self.__coords\n",
      "        \n",
      "    def __init__(self, f):\n",
      "        self.__nameOfFile = str(f)\n",
      "        #print(self.__nameOfFile)\n",
      "        self.__data = self.__SetData()\n",
      "        print(self.__data)\n",
      "        '''\n",
      "        I CAN'T SET THE DATA HERE. WHY?\n",
      "        '''\n",
      "        self.__coords = self.__SetCoordinates()\n",
      "        #print(self.__coords)\n",
      "        self.__stationName = self.__SetStationName()\n",
      "        self.__format = self.__SetFormat()\n",
      "        self.__sourceOfData = self.__SetSourceOfData()\n",
      "        self.__iagaCode = self.__SetIagaCode()\n",
      "        self.__geodeticLatitude = self.__SetGeodeticLatitude()\n",
      "        self.__geodeticLongitude = self.__SetGeodeticLongitude()\n",
      "        self.__elevation = self.__SetElevation()\n",
      "        self.__reported = self.__SetReporterd()\n",
      "        self.__sensorOrientation = self.__SetSensorOrientation()\n",
      "        self.__digitalSampling = self.__SetDigitalSampling()\n",
      "        self.__dataIntervalType = self.__SetDataIntervalType()\n",
      "        self.__dataType = self.__SetDataType()\n",
      "        self.__publicationDate = self.__SetPublicationDate()\n",
      "\n",
      "        #header = [\"DATE\", \"TIME\", \"DOY\", \"ABKX\", \"ABKY\", \"ABKZ\", \"ABKF\"]\n",
      "    \n",
      "    def __SetCoordinates(self):\n",
      "        x,y,z = np.loadtxt(self.__data[-1440:], dtype=float, usecols=[3,4,5], unpack=True)\n",
      "        return x,y,z\n",
      "\n",
      "    \n",
      "        \n",
      "   "
     ],
     "language": "python",
     "metadata": {},
     "outputs": [],
     "prompt_number": 255
    },
    {
     "cell_type": "code",
     "collapsed": false,
     "input": [
      "def getNumberOfStations():    \n",
      "    data = {}\n",
      "    allfiles = os.listdir('.')\n",
      "    #d = [Data()] * len(allfiles)\n",
      "    d = Data(allfiles[0])\n",
      "    print(d.GetNameOfFile())\n",
      "        "
     ],
     "language": "python",
     "metadata": {},
     "outputs": [],
     "prompt_number": 256
    },
    {
     "cell_type": "code",
     "collapsed": false,
     "input": [
      "getNumberOfStations()"
     ],
     "language": "python",
     "metadata": {},
     "outputs": [
      {
       "output_type": "stream",
       "stream": "stdout",
       "text": [
        "None\n"
       ]
      },
      {
       "ename": "TypeError",
       "evalue": "'NoneType' object has no attribute '__getitem__'",
       "output_type": "pyerr",
       "traceback": [
        "\u001b[0;31m---------------------------------------------------------------------------\u001b[0m\n\u001b[0;31mTypeError\u001b[0m                                 Traceback (most recent call last)",
        "\u001b[0;32m<ipython-input-257-4c2ee1c1d63e>\u001b[0m in \u001b[0;36m<module>\u001b[0;34m()\u001b[0m\n\u001b[0;32m----> 1\u001b[0;31m \u001b[0mgetNumberOfStations\u001b[0m\u001b[0;34m(\u001b[0m\u001b[0;34m)\u001b[0m\u001b[0;34m\u001b[0m\u001b[0m\n\u001b[0m",
        "\u001b[0;32m<ipython-input-256-b75adac66b0b>\u001b[0m in \u001b[0;36mgetNumberOfStations\u001b[0;34m()\u001b[0m\n\u001b[1;32m      3\u001b[0m     \u001b[0mallfiles\u001b[0m \u001b[0;34m=\u001b[0m \u001b[0mos\u001b[0m\u001b[0;34m.\u001b[0m\u001b[0mlistdir\u001b[0m\u001b[0;34m(\u001b[0m\u001b[0;34m'.'\u001b[0m\u001b[0;34m)\u001b[0m\u001b[0;34m\u001b[0m\u001b[0m\n\u001b[1;32m      4\u001b[0m     \u001b[0;31m#d = [Data()] * len(allfiles)\u001b[0m\u001b[0;34m\u001b[0m\u001b[0;34m\u001b[0m\u001b[0m\n\u001b[0;32m----> 5\u001b[0;31m     \u001b[0md\u001b[0m \u001b[0;34m=\u001b[0m \u001b[0mData\u001b[0m\u001b[0;34m(\u001b[0m\u001b[0mallfiles\u001b[0m\u001b[0;34m[\u001b[0m\u001b[0;36m0\u001b[0m\u001b[0;34m]\u001b[0m\u001b[0;34m)\u001b[0m\u001b[0;34m\u001b[0m\u001b[0m\n\u001b[0m\u001b[1;32m      6\u001b[0m     \u001b[0;32mprint\u001b[0m\u001b[0;34m(\u001b[0m\u001b[0md\u001b[0m\u001b[0;34m.\u001b[0m\u001b[0mGetNameOfFile\u001b[0m\u001b[0;34m(\u001b[0m\u001b[0;34m)\u001b[0m\u001b[0;34m)\u001b[0m\u001b[0;34m\u001b[0m\u001b[0m\n\u001b[1;32m      7\u001b[0m \u001b[0;34m\u001b[0m\u001b[0m\n",
        "\u001b[0;32m<ipython-input-255-016ac879c264>\u001b[0m in \u001b[0;36m__init__\u001b[0;34m(self, f)\u001b[0m\n\u001b[1;32m    105\u001b[0m         \u001b[0mI\u001b[0m \u001b[0mCAN\u001b[0m\u001b[0;31m'\u001b[0m\u001b[0mT\u001b[0m \u001b[0mSET\u001b[0m \u001b[0mTHE\u001b[0m \u001b[0mDATA\u001b[0m \u001b[0mHERE\u001b[0m\u001b[0;34m.\u001b[0m \u001b[0mWHY\u001b[0m\u001b[0;31m?\u001b[0m\u001b[0;34m\u001b[0m\u001b[0m\n\u001b[1;32m    106\u001b[0m         '''\n\u001b[0;32m--> 107\u001b[0;31m         \u001b[0mself\u001b[0m\u001b[0;34m.\u001b[0m\u001b[0m__coords\u001b[0m \u001b[0;34m=\u001b[0m \u001b[0mself\u001b[0m\u001b[0;34m.\u001b[0m\u001b[0m__SetCoordinates\u001b[0m\u001b[0;34m(\u001b[0m\u001b[0;34m)\u001b[0m\u001b[0;34m\u001b[0m\u001b[0m\n\u001b[0m\u001b[1;32m    108\u001b[0m         \u001b[0;31m#print(self.__coords)\u001b[0m\u001b[0;34m\u001b[0m\u001b[0;34m\u001b[0m\u001b[0m\n\u001b[1;32m    109\u001b[0m         \u001b[0mself\u001b[0m\u001b[0;34m.\u001b[0m\u001b[0m__stationName\u001b[0m \u001b[0;34m=\u001b[0m \u001b[0mself\u001b[0m\u001b[0;34m.\u001b[0m\u001b[0m__SetStationName\u001b[0m\u001b[0;34m(\u001b[0m\u001b[0;34m)\u001b[0m\u001b[0;34m\u001b[0m\u001b[0m\n",
        "\u001b[0;32m<ipython-input-255-016ac879c264>\u001b[0m in \u001b[0;36m__SetCoordinates\u001b[0;34m(self)\u001b[0m\n\u001b[1;32m    124\u001b[0m \u001b[0;34m\u001b[0m\u001b[0m\n\u001b[1;32m    125\u001b[0m     \u001b[0;32mdef\u001b[0m \u001b[0m__SetCoordinates\u001b[0m\u001b[0;34m(\u001b[0m\u001b[0mself\u001b[0m\u001b[0;34m)\u001b[0m\u001b[0;34m:\u001b[0m\u001b[0;34m\u001b[0m\u001b[0m\n\u001b[0;32m--> 126\u001b[0;31m         \u001b[0mx\u001b[0m\u001b[0;34m,\u001b[0m\u001b[0my\u001b[0m\u001b[0;34m,\u001b[0m\u001b[0mz\u001b[0m \u001b[0;34m=\u001b[0m \u001b[0mnp\u001b[0m\u001b[0;34m.\u001b[0m\u001b[0mloadtxt\u001b[0m\u001b[0;34m(\u001b[0m\u001b[0mself\u001b[0m\u001b[0;34m.\u001b[0m\u001b[0m__data\u001b[0m\u001b[0;34m[\u001b[0m\u001b[0;34m-\u001b[0m\u001b[0;36m1440\u001b[0m\u001b[0;34m:\u001b[0m\u001b[0;34m]\u001b[0m\u001b[0;34m,\u001b[0m \u001b[0mdtype\u001b[0m\u001b[0;34m=\u001b[0m\u001b[0mfloat\u001b[0m\u001b[0;34m,\u001b[0m \u001b[0musecols\u001b[0m\u001b[0;34m=\u001b[0m\u001b[0;34m[\u001b[0m\u001b[0;36m3\u001b[0m\u001b[0;34m,\u001b[0m\u001b[0;36m4\u001b[0m\u001b[0;34m,\u001b[0m\u001b[0;36m5\u001b[0m\u001b[0;34m]\u001b[0m\u001b[0;34m,\u001b[0m \u001b[0munpack\u001b[0m\u001b[0;34m=\u001b[0m\u001b[0mTrue\u001b[0m\u001b[0;34m)\u001b[0m\u001b[0;34m\u001b[0m\u001b[0m\n\u001b[0m\u001b[1;32m    127\u001b[0m         \u001b[0;32mreturn\u001b[0m \u001b[0mx\u001b[0m\u001b[0;34m,\u001b[0m\u001b[0my\u001b[0m\u001b[0;34m,\u001b[0m\u001b[0mz\u001b[0m\u001b[0;34m\u001b[0m\u001b[0m\n\u001b[1;32m    128\u001b[0m \u001b[0;34m\u001b[0m\u001b[0m\n",
        "\u001b[0;31mTypeError\u001b[0m: 'NoneType' object has no attribute '__getitem__'"
       ]
      }
     ],
     "prompt_number": 257
    },
    {
     "cell_type": "code",
     "collapsed": false,
     "input": [
      "data = (str(np.loadtxt('cmo20170827vmin.min'))).lower()\n",
      "def Parse(word):\n",
      "    print(word)\n",
      "    print(data)\n",
      "    res = re.search(word + \"(\\s*)(\\w*)\", data)\n",
      "    return res.group(3)\n",
      "   "
     ],
     "language": "python",
     "metadata": {},
     "outputs": [
      {
       "ename": "ValueError",
       "evalue": "could not convert string to float: Format",
       "output_type": "pyerr",
       "traceback": [
        "\u001b[0;31m---------------------------------------------------------------------------\u001b[0m\n\u001b[0;31mValueError\u001b[0m                                Traceback (most recent call last)",
        "\u001b[0;32m<ipython-input-229-8c008f1c735d>\u001b[0m in \u001b[0;36m<module>\u001b[0;34m()\u001b[0m\n\u001b[0;32m----> 1\u001b[0;31m \u001b[0mdata\u001b[0m \u001b[0;34m=\u001b[0m \u001b[0;34m(\u001b[0m\u001b[0mstr\u001b[0m\u001b[0;34m(\u001b[0m\u001b[0mnp\u001b[0m\u001b[0;34m.\u001b[0m\u001b[0mloadtxt\u001b[0m\u001b[0;34m(\u001b[0m\u001b[0;34m'cmo20170827vmin.min'\u001b[0m\u001b[0;34m)\u001b[0m\u001b[0;34m)\u001b[0m\u001b[0;34m)\u001b[0m\u001b[0;34m.\u001b[0m\u001b[0mlower\u001b[0m\u001b[0;34m(\u001b[0m\u001b[0;34m)\u001b[0m\u001b[0;34m\u001b[0m\u001b[0m\n\u001b[0m\u001b[1;32m      2\u001b[0m \u001b[0;32mdef\u001b[0m \u001b[0mParse\u001b[0m\u001b[0;34m(\u001b[0m\u001b[0mword\u001b[0m\u001b[0;34m)\u001b[0m\u001b[0;34m:\u001b[0m\u001b[0;34m\u001b[0m\u001b[0m\n\u001b[1;32m      3\u001b[0m     \u001b[0;32mprint\u001b[0m\u001b[0;34m(\u001b[0m\u001b[0mword\u001b[0m\u001b[0;34m)\u001b[0m\u001b[0;34m\u001b[0m\u001b[0m\n\u001b[1;32m      4\u001b[0m     \u001b[0;32mprint\u001b[0m\u001b[0;34m(\u001b[0m\u001b[0mdata\u001b[0m\u001b[0;34m)\u001b[0m\u001b[0;34m\u001b[0m\u001b[0m\n\u001b[1;32m      5\u001b[0m     \u001b[0mres\u001b[0m \u001b[0;34m=\u001b[0m \u001b[0mre\u001b[0m\u001b[0;34m.\u001b[0m\u001b[0msearch\u001b[0m\u001b[0;34m(\u001b[0m\u001b[0mword\u001b[0m \u001b[0;34m+\u001b[0m \u001b[0;34m\"(\\s*)(\\w*)\"\u001b[0m\u001b[0;34m,\u001b[0m \u001b[0mdata\u001b[0m\u001b[0;34m)\u001b[0m\u001b[0;34m\u001b[0m\u001b[0m\n",
        "\u001b[0;32m/usr/local/lib/python2.7/dist-packages/numpy/lib/npyio.pyc\u001b[0m in \u001b[0;36mloadtxt\u001b[0;34m(fname, dtype, comments, delimiter, converters, skiprows, usecols, unpack, ndmin)\u001b[0m\n\u001b[1;32m   1022\u001b[0m \u001b[0;34m\u001b[0m\u001b[0m\n\u001b[1;32m   1023\u001b[0m             \u001b[0;31m# Convert each value according to its column and store\u001b[0m\u001b[0;34m\u001b[0m\u001b[0;34m\u001b[0m\u001b[0m\n\u001b[0;32m-> 1024\u001b[0;31m             \u001b[0mitems\u001b[0m \u001b[0;34m=\u001b[0m \u001b[0;34m[\u001b[0m\u001b[0mconv\u001b[0m\u001b[0;34m(\u001b[0m\u001b[0mval\u001b[0m\u001b[0;34m)\u001b[0m \u001b[0;32mfor\u001b[0m \u001b[0;34m(\u001b[0m\u001b[0mconv\u001b[0m\u001b[0;34m,\u001b[0m \u001b[0mval\u001b[0m\u001b[0;34m)\u001b[0m \u001b[0;32min\u001b[0m \u001b[0mzip\u001b[0m\u001b[0;34m(\u001b[0m\u001b[0mconverters\u001b[0m\u001b[0;34m,\u001b[0m \u001b[0mvals\u001b[0m\u001b[0;34m)\u001b[0m\u001b[0;34m]\u001b[0m\u001b[0;34m\u001b[0m\u001b[0m\n\u001b[0m\u001b[1;32m   1025\u001b[0m             \u001b[0;31m# Then pack it according to the dtype's nesting\u001b[0m\u001b[0;34m\u001b[0m\u001b[0;34m\u001b[0m\u001b[0m\n\u001b[1;32m   1026\u001b[0m             \u001b[0mitems\u001b[0m \u001b[0;34m=\u001b[0m \u001b[0mpack_items\u001b[0m\u001b[0;34m(\u001b[0m\u001b[0mitems\u001b[0m\u001b[0;34m,\u001b[0m \u001b[0mpacking\u001b[0m\u001b[0;34m)\u001b[0m\u001b[0;34m\u001b[0m\u001b[0m\n",
        "\u001b[0;32m/usr/local/lib/python2.7/dist-packages/numpy/lib/npyio.pyc\u001b[0m in \u001b[0;36mfloatconv\u001b[0;34m(x)\u001b[0m\n\u001b[1;32m    723\u001b[0m         \u001b[0;32mif\u001b[0m \u001b[0;34mb'0x'\u001b[0m \u001b[0;32min\u001b[0m \u001b[0mx\u001b[0m\u001b[0;34m:\u001b[0m\u001b[0;34m\u001b[0m\u001b[0m\n\u001b[1;32m    724\u001b[0m             \u001b[0;32mreturn\u001b[0m \u001b[0mfloat\u001b[0m\u001b[0;34m.\u001b[0m\u001b[0mfromhex\u001b[0m\u001b[0;34m(\u001b[0m\u001b[0masstr\u001b[0m\u001b[0;34m(\u001b[0m\u001b[0mx\u001b[0m\u001b[0;34m)\u001b[0m\u001b[0;34m)\u001b[0m\u001b[0;34m\u001b[0m\u001b[0m\n\u001b[0;32m--> 725\u001b[0;31m         \u001b[0;32mreturn\u001b[0m \u001b[0mfloat\u001b[0m\u001b[0;34m(\u001b[0m\u001b[0mx\u001b[0m\u001b[0;34m)\u001b[0m\u001b[0;34m\u001b[0m\u001b[0m\n\u001b[0m\u001b[1;32m    726\u001b[0m \u001b[0;34m\u001b[0m\u001b[0m\n\u001b[1;32m    727\u001b[0m     \u001b[0mtyp\u001b[0m \u001b[0;34m=\u001b[0m \u001b[0mdtype\u001b[0m\u001b[0;34m.\u001b[0m\u001b[0mtype\u001b[0m\u001b[0;34m\u001b[0m\u001b[0m\n",
        "\u001b[0;31mValueError\u001b[0m: could not convert string to float: Format"
       ]
      }
     ],
     "prompt_number": 229
    },
    {
     "cell_type": "code",
     "collapsed": false,
     "input": [
      "Parse('iaga code')"
     ],
     "language": "python",
     "metadata": {},
     "outputs": [
      {
       "output_type": "stream",
       "stream": "stdout",
       "text": [
        "iaga code\n",
        "cmo20170827vmin.min\n"
       ]
      },
      {
       "ename": "AttributeError",
       "evalue": "'NoneType' object has no attribute 'group'",
       "output_type": "pyerr",
       "traceback": [
        "\u001b[0;31m---------------------------------------------------------------------------\u001b[0m\n\u001b[0;31mAttributeError\u001b[0m                            Traceback (most recent call last)",
        "\u001b[0;32m<ipython-input-121-5106a2af77ce>\u001b[0m in \u001b[0;36m<module>\u001b[0;34m()\u001b[0m\n\u001b[0;32m----> 1\u001b[0;31m \u001b[0mParse\u001b[0m\u001b[0;34m(\u001b[0m\u001b[0;34m'iaga code'\u001b[0m\u001b[0;34m)\u001b[0m\u001b[0;34m\u001b[0m\u001b[0m\n\u001b[0m",
        "\u001b[0;32m<ipython-input-120-05fb3a71f254>\u001b[0m in \u001b[0;36mParse\u001b[0;34m(word)\u001b[0m\n\u001b[1;32m      4\u001b[0m     \u001b[0;32mprint\u001b[0m\u001b[0;34m(\u001b[0m\u001b[0mdata\u001b[0m\u001b[0;34m)\u001b[0m\u001b[0;34m\u001b[0m\u001b[0m\n\u001b[1;32m      5\u001b[0m     \u001b[0mres\u001b[0m \u001b[0;34m=\u001b[0m \u001b[0mre\u001b[0m\u001b[0;34m.\u001b[0m\u001b[0msearch\u001b[0m\u001b[0;34m(\u001b[0m\u001b[0mword\u001b[0m \u001b[0;34m+\u001b[0m \u001b[0;34m\"(\\s*)(\\w*)\"\u001b[0m\u001b[0;34m,\u001b[0m \u001b[0mdata\u001b[0m\u001b[0;34m)\u001b[0m\u001b[0;34m\u001b[0m\u001b[0m\n\u001b[0;32m----> 6\u001b[0;31m     \u001b[0;32mreturn\u001b[0m \u001b[0mres\u001b[0m\u001b[0;34m.\u001b[0m\u001b[0mgroup\u001b[0m\u001b[0;34m(\u001b[0m\u001b[0;36m3\u001b[0m\u001b[0;34m)\u001b[0m\u001b[0;34m\u001b[0m\u001b[0m\n\u001b[0m\u001b[1;32m      7\u001b[0m \u001b[0;34m\u001b[0m\u001b[0m\n",
        "\u001b[0;31mAttributeError\u001b[0m: 'NoneType' object has no attribute 'group'"
       ]
      }
     ],
     "prompt_number": 121
    },
    {
     "cell_type": "code",
     "collapsed": false,
     "input": [
      "import re\n",
      "try:\n",
      "    os.chdir('data')\n",
      "except:\n",
      "   pass\n",
      "data = str(np.loadtxt('abk20170827vmin.min', delimiter = '\\n', dtype=str))\n",
      "res = re.search(r\"(Station Name)(\\s*)(\\w*)\", data)\n",
      "print(res.group(3))\n"
     ],
     "language": "python",
     "metadata": {},
     "outputs": [
      {
       "output_type": "stream",
       "stream": "stdout",
       "text": [
        "[' Format                 IAGA-2002                                    |'\n",
        " ' Source of Data         Sveriges geologiska undersokning             |'\n",
        " ' Station Name           Abisko                                       |'\n",
        " ...,\n",
        " '2017-08-27 23:57:00.000 239     99999.00  99999.00  99999.00  99999.00'\n",
        " '2017-08-27 23:58:00.000 239     99999.00  99999.00  99999.00  99999.00'\n",
        " '2017-08-27 23:59:00.000 239     99999.00  99999.00  99999.00  99999.00']\n",
        "Abisko\n"
       ]
      }
     ],
     "prompt_number": 11
    },
    {
     "cell_type": "code",
     "collapsed": false,
     "input": [],
     "language": "python",
     "metadata": {},
     "outputs": []
    },
    {
     "cell_type": "code",
     "collapsed": false,
     "input": [
      "import numpy as np\n",
      "import os\n",
      "#os.chdir('data')\n",
      "d = np.loadtxt('abk20170827vmin.min', delimiter = '\\n', dtype=str)\n",
      "print(type(str(d)))"
     ],
     "language": "python",
     "metadata": {},
     "outputs": [
      {
       "output_type": "stream",
       "stream": "stdout",
       "text": [
        "<type 'str'>\n"
       ]
      }
     ],
     "prompt_number": 8
    },
    {
     "cell_type": "code",
     "collapsed": false,
     "input": [
      " def readCoordsFromOneFile(f):\n",
      "        data = np.loadtxt(str(f), delimiter = '\\n', dtype=str)\n",
      "        x,y,z = np.loadtxt(data[-1440:], dtype=float, usecols=[3,4,5], unpack=True)\n",
      "        return x,y,z"
     ],
     "language": "python",
     "metadata": {},
     "outputs": [],
     "prompt_number": 66
    },
    {
     "cell_type": "code",
     "collapsed": false,
     "input": [
      "readCoordsFromOneFile('abk20170827vmin.min')"
     ],
     "language": "python",
     "metadata": {},
     "outputs": [
      {
       "metadata": {},
       "output_type": "pyout",
       "prompt_number": 67,
       "text": [
        "(array([ 11307.7,  11308. ,  11308. , ...,  99999. ,  99999. ,  99999. ]),\n",
        " array([  1734.5,   1734.5,   1734.4, ...,  99999. ,  99999. ,  99999. ]),\n",
        " array([ 52018.7,  52018.6,  52018.3, ...,  99999. ,  99999. ,  99999. ]))"
       ]
      }
     ],
     "prompt_number": 67
    },
    {
     "cell_type": "code",
     "collapsed": false,
     "input": [
      "def readAllCoords():\n",
      "    data = {}\n",
      "    try:\n",
      "        os.chdir('data')\n",
      "    except:\n",
      "       pass\n",
      "\n",
      "    allfiles = os.listdir('.') \n",
      "    i = 0\n",
      "    for f in allfiles:\n",
      "        try:\n",
      "            d = Data(f)\n",
      "        except:\n",
      "           pass        \n",
      "    return data"
     ],
     "language": "python",
     "metadata": {},
     "outputs": [],
     "prompt_number": 18
    },
    {
     "cell_type": "code",
     "collapsed": false,
     "input": [
      "readAllCoords()"
     ],
     "language": "python",
     "metadata": {},
     "outputs": [
      {
       "metadata": {},
       "output_type": "pyout",
       "prompt_number": 19,
       "text": [
        "{}"
       ]
      }
     ],
     "prompt_number": 19
    },
    {
     "cell_type": "code",
     "collapsed": false,
     "input": [
      "\n",
      "for key in data.keys():\n",
      "    print(key)"
     ],
     "language": "python",
     "metadata": {},
     "outputs": [
      {
       "output_type": "stream",
       "stream": "stdout",
       "text": [
        "tuc20170827vmin.min\n",
        "bel20170827vmin.min\n",
        "hua20170827vmin.min\n",
        "pst20170827pmin.min\n",
        "lrm20170827pmin.min\n",
        "tam20170827vmin.min\n",
        "fur20170827vmin.min\n",
        "frd20170827vmin.min\n",
        "pag20170827pmin.min\n",
        "sod20170827vmin.min\n",
        "lon20170827vmin.min\n",
        "bsl20170827vmin.min\n",
        "hlp20170827vmin.min\n",
        "hrn20170827vmin.min\n",
        "phu20170827vmin.min\n",
        "lyc20170827vmin.min\n",
        "eyr20170827pmin.min\n",
        "ded20170827vmin.min\n",
        "asc20170827pmin.min\n",
        "shu20170827vmin.min\n",
        "cki20170827pmin.min\n",
        "new20170827vmin.min\n",
        "ppt20170827vmin.min\n",
        "frn20170827vmin.min\n",
        "mcq20170827pmin.min\n",
        "cnb20170827pmin.min\n",
        "asp20170827pmin.min\n",
        "sua20170827pmin.min\n",
        "kdu20170827pmin.min\n",
        "dlt20170827vmin.min\n",
        "wic20170827pmin.min\n",
        "sba20170827pmin.min\n",
        "brd20170827vmin.min\n",
        "ngk20170827pmin.min\n",
        "dou20170827vmin.min\n",
        "nur20170827pmin.min\n",
        "sfs20170827vmin.min\n",
        "brw20170827vmin.min\n",
        "teo20170827vmin.min\n",
        "gui20170827vmin.min\n",
        "abk20170827vmin.min\n",
        "maw20170827pmin.min\n",
        "ups20170827vmin.min\n",
        "sbl20170827pmin.min\n",
        "cta20170827pmin.min\n",
        "gua20170827vmin.min\n",
        "gan20170827vmin.min\n",
        "kou20170827vmin.min\n",
        "cmo20170827vmin.min\n",
        "gng20170827pmin.min\n",
        "clf20170827vmin.min\n",
        "mbo20170827vmin.min\n",
        "bou20170827vmin.min\n",
        "hon20170827vmin.min\n",
        "sit20170827vmin.min\n",
        "vss20170827pmin.min\n",
        "spt20170827vmin.min\n",
        "csy20170827pmin.min\n",
        "ebr20170827vmin.min\n",
        "kep20170827pmin.min\n",
        "wng20170827pmin.min\n",
        "ipm20170827vmin.min\n",
        "sjg20170827vmin.min\n",
        "api20170827pmin.min\n"
       ]
      }
     ],
     "prompt_number": 57
    },
    {
     "cell_type": "code",
     "collapsed": false,
     "input": [],
     "language": "python",
     "metadata": {},
     "outputs": []
    },
    {
     "cell_type": "code",
     "collapsed": false,
     "input": [],
     "language": "python",
     "metadata": {},
     "outputs": []
    }
   ],
   "metadata": {}
  }
 ]
}