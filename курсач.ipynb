{
 "metadata": {
  "name": "",
  "signature": "sha256:8f80db232bacd69822935c93983dfab58b2e6e2c4e2f47bc9803ba6bad7d019a"
 },
 "nbformat": 3,
 "nbformat_minor": 0,
 "worksheets": [
  {
   "cells": [
    {
     "cell_type": "code",
     "collapsed": false,
     "input": [
      "import numpy as np\n",
      "import pandas as pd\n",
      "import re\n",
      "import os\n",
      "OTHER_DOCS = ''"
     ],
     "language": "python",
     "metadata": {},
     "outputs": [],
     "prompt_number": 2
    },
    {
     "cell_type": "code",
     "collapsed": false,
     "input": [
      "try:\n",
      "    os.chdir('data')\n",
      "except:\n",
      "   pass"
     ],
     "language": "python",
     "metadata": {},
     "outputs": [],
     "prompt_number": 3
    },
    {
     "cell_type": "code",
     "collapsed": false,
     "input": [
      "class Data(): \n",
      "    __nameOfFile = ''\n",
      "    __coords = []\n",
      "    __format = ''\n",
      "    __sourceOfData = ''\n",
      "    __stationName = ''\n",
      "    __iagaCode = ''\n",
      "    __geodeticLatitude = ''\n",
      "    __geodeticLongitude = ''\n",
      "    __elevation = ''\n",
      "    __reported = ''\n",
      "    __sensorOrientation = ''\n",
      "    __digitalSampling = ''\n",
      "    __dataIntervalType = ''\n",
      "    __dataType = ''\n",
      "    __publicationDate = ''\n",
      "    __data = ''\n",
      "    \n",
      "    header = [\"DATE\", \"TIME\", \"DOY\", \"ABKX\", \"ABKY\", \"ABKZ\", \"ABKF\"]\n",
      "    def __SetData(self):\n",
      "        self.__data = np.loadtxt(self.__nameOfFile, delimiter = '\\n', dtype=str)\n",
      "        \n",
      "    def __SetCoords(self):\n",
      "        x,y,z = np.loadtxt(self.__data[-1440:], dtype=float, usecols=[3,4,5], unpack=True)\n",
      "        return x,y,z\n",
      "       \n",
      "    def __Parse(self, word):\n",
      "        res = re.search(r(word + \"(\\s*)(\\w*)\"), str(self.__data).lower())\n",
      "        try:\n",
      "            return res.group(3)\n",
      "        except:\n",
      "            return 1\n",
      "    \n",
      "    def __SetStationName(self):\n",
      "        self.__stationName = self.__Parse(\"station name\")\n",
      "    def __SetFormat(self):\n",
      "        self.__format = self.__Parse(\"format\")\n",
      "    def __SetGeodeticLatitude(self):\n",
      "        self.__geodeticLatitude = self.__Parse(\"geodetic latitude\")\n",
      "    def __SetGeodeticLongitude(self):\n",
      "        self.__geodeticLongitude = self.__Parse(\"geodetic longitude\")\n",
      "    def __SetElevation(self):\n",
      "        self.__elevation = self.__Parse(\"elevation\")\n",
      "    def __SetReporterd(self):\n",
      "        self.__reported = self.__Parse(\"reported\")\n",
      "    def __SetSensorOrientation(self):\n",
      "        self.__sensorOrientation = self.__Parse(\"sensor orientation\")\n",
      "    def __SetDigitalSampling(self):\n",
      "        self.__digitalSampling = self.__Parse(\"digital sampling\")\n",
      "    def __SetDataIntervalType(self):\n",
      "        self.__dataIntervalType = self.__Parse(\"data interval type\")        \n",
      "    def __SetDataType(self):\n",
      "        self.__dataType = self.__Parse(\"data type\")\n",
      "    def __SetPublicationDate(self):\n",
      "        self.__publicationDate = self.__Parse(\"publication date\")\n",
      "    def __SetIagaCode(self):\n",
      "        self.__iagaCode = self.__Parse(\"iaga code\")\n",
      "    def __SetSourceOfData(self):\n",
      "        self.__sourceOfData = self.__Parse(\"source of data\")\n",
      "    def __SetNameOfFile(self):\n",
      "        self.__nameOfFile = self.__Parse(\"name of file\")\n",
      "    def __SetStationName(self):\n",
      "        self.__stationName = self.__Parse(\"station name\")\n",
      "    def __SetCoords(self):\n",
      "        self.__coords = self.__Parse(\"coords\")\n",
      "    \n",
      "    def GetGeodeticLatitude(self):\n",
      "        return self.__geodeticLatitude\n",
      "    def GetGeodeticLongitude(self):\n",
      "        return self.__geodeticLongitude\n",
      "    def GetElevation(self):\n",
      "        return self.__elevation\n",
      "    def GetReporterd(self):\n",
      "        return self.__reported\n",
      "    def GetSensorOrientation(self):\n",
      "        return self.__sensorOrientation\n",
      "    def GetDigitalSampling(self): \n",
      "        return self.__digitalSampling\n",
      "    def GetDataIntervalType(self):\n",
      "        return self.__dataIntervalType\n",
      "    def GetDataType(self):    \n",
      "        return self.__dataType\n",
      "    def GetPublicationDate(self):\n",
      "        return self.__publicationDate\n",
      "    def GetIagaCode(self):\n",
      "        return self.__iagaCode\n",
      "    def __GetSourceOfData(self):\n",
      "        return self.__sourceOfData\n",
      "    def __GetFormat(self): \n",
      "        return self.__format\n",
      "    def GetNameOfFile(self):\n",
      "        return self.__nameOfFile\n",
      "    def GetStationName(self):\n",
      "        return self.__stationName\n",
      "    def GetCoords(self):\n",
      "        return self.__coords\n",
      "    \n",
      "    def __init__(self, f):\n",
      "        self.__data = self.__setData()\n",
      "        self.__nameOfFile = f\n",
      "        self.__coords = self.__setCoords()\n",
      "        self.__stationName = self.__setStationName()\n",
      "        self.__format = self.__SetFormat()\n",
      "        self.__sourceOfData = self.__SetSourceOfData()\n",
      "        self.__iagaCode = self.__iagaCode()\n",
      "        self.__geodeticLatitude = self.__SetGeodeticLatitude()\n",
      "        self.__geodeticLongitude = self.__geodeticLongitude()\n",
      "        self.__elevation = self.__SetElevation()\n",
      "        self.__reported = self.__SetReporterd()\n",
      "        self.__sensorOrientation = self.__SetSensorOrientation()\n",
      "        self.__digitalSampling = __SetDigitalSampling()\n",
      "        self.__dataIntervalType = __dataIntervalType()\n",
      "        self.__dataType = __SetDataType()\n",
      "        self.__publicationDate = __SetPublicationDate()\n",
      "        "
     ],
     "language": "python",
     "metadata": {},
     "outputs": [],
     "prompt_number": 4
    },
    {
     "cell_type": "code",
     "collapsed": false,
     "input": [
      "def getAllData"
     ],
     "language": "python",
     "metadata": {},
     "outputs": []
    },
    {
     "cell_type": "code",
     "collapsed": false,
     "input": [
      "def getNumberOfStations():    \n",
      "    data = {}\n",
      "    allfiles = os.listdir('.')\n",
      "    i = 0\n",
      "    d = [0] * len(allfiles)\n",
      "    for f in allfiles:\n",
      "        #try:\n",
      "        print('good')\n",
      "        d[i] = Data(f) \n",
      "        i = i+1 \n",
      "        print(d[i].getStationName())\n",
      "        #except:\n",
      "         #  print(f)\n",
      "          #  pass        \n",
      "    return "
     ],
     "language": "python",
     "metadata": {},
     "outputs": [],
     "prompt_number": 117
    },
    {
     "cell_type": "code",
     "collapsed": false,
     "input": [
      "getNumberOfStations()"
     ],
     "language": "python",
     "metadata": {},
     "outputs": [
      {
       "output_type": "stream",
       "stream": "stdout",
       "text": [
        "good\n"
       ]
      },
      {
       "ename": "AttributeError",
       "evalue": "'int' object has no attribute 'getStationName'",
       "output_type": "pyerr",
       "traceback": [
        "\u001b[0;31m---------------------------------------------------------------------------\u001b[0m\n\u001b[0;31mAttributeError\u001b[0m                            Traceback (most recent call last)",
        "\u001b[0;32m<ipython-input-118-4c2ee1c1d63e>\u001b[0m in \u001b[0;36m<module>\u001b[0;34m()\u001b[0m\n\u001b[0;32m----> 1\u001b[0;31m \u001b[0mgetNumberOfStations\u001b[0m\u001b[0;34m(\u001b[0m\u001b[0;34m)\u001b[0m\u001b[0;34m\u001b[0m\u001b[0m\n\u001b[0m",
        "\u001b[0;32m<ipython-input-117-c3590f9b8b8a>\u001b[0m in \u001b[0;36mgetNumberOfStations\u001b[0;34m()\u001b[0m\n\u001b[1;32m      9\u001b[0m         \u001b[0md\u001b[0m\u001b[0;34m[\u001b[0m\u001b[0mi\u001b[0m\u001b[0;34m]\u001b[0m \u001b[0;34m=\u001b[0m \u001b[0mData\u001b[0m\u001b[0;34m(\u001b[0m\u001b[0mf\u001b[0m\u001b[0;34m)\u001b[0m\u001b[0;34m\u001b[0m\u001b[0m\n\u001b[1;32m     10\u001b[0m         \u001b[0mi\u001b[0m \u001b[0;34m=\u001b[0m \u001b[0mi\u001b[0m\u001b[0;34m+\u001b[0m\u001b[0;36m1\u001b[0m\u001b[0;34m\u001b[0m\u001b[0m\n\u001b[0;32m---> 11\u001b[0;31m         \u001b[0;32mprint\u001b[0m\u001b[0;34m(\u001b[0m\u001b[0md\u001b[0m\u001b[0;34m[\u001b[0m\u001b[0mi\u001b[0m\u001b[0;34m]\u001b[0m\u001b[0;34m.\u001b[0m\u001b[0mgetStationName\u001b[0m\u001b[0;34m(\u001b[0m\u001b[0;34m)\u001b[0m\u001b[0;34m)\u001b[0m\u001b[0;34m\u001b[0m\u001b[0m\n\u001b[0m\u001b[1;32m     12\u001b[0m         \u001b[0;31m#except:\u001b[0m\u001b[0;34m\u001b[0m\u001b[0;34m\u001b[0m\u001b[0m\n\u001b[1;32m     13\u001b[0m          \u001b[0;31m#  print(f)\u001b[0m\u001b[0;34m\u001b[0m\u001b[0;34m\u001b[0m\u001b[0m\n",
        "\u001b[0;31mAttributeError\u001b[0m: 'int' object has no attribute 'getStationName'"
       ]
      }
     ],
     "prompt_number": 118
    },
    {
     "cell_type": "code",
     "collapsed": false,
     "input": [
      "import re\n",
      "try:\n",
      "    os.chdir('data')\n",
      "except:\n",
      "   pass\n",
      "data = str(np.loadtxt('abk20170827vmin.min', delimiter = '\\n', dtype=str))\n",
      "res = re.search(r\"(Station Name)(\\s*)(\\w*)\", data)\n",
      "print(res.group(3))\n"
     ],
     "language": "python",
     "metadata": {},
     "outputs": [
      {
       "output_type": "stream",
       "stream": "stdout",
       "text": [
        "[' Format                 IAGA-2002                                    |'\n",
        " ' Source of Data         Sveriges geologiska undersokning             |'\n",
        " ' Station Name           Abisko                                       |'\n",
        " ...,\n",
        " '2017-08-27 23:57:00.000 239     99999.00  99999.00  99999.00  99999.00'\n",
        " '2017-08-27 23:58:00.000 239     99999.00  99999.00  99999.00  99999.00'\n",
        " '2017-08-27 23:59:00.000 239     99999.00  99999.00  99999.00  99999.00']\n",
        "Abisko\n"
       ]
      }
     ],
     "prompt_number": 11
    },
    {
     "cell_type": "code",
     "collapsed": false,
     "input": [
      "import numpy as np\n",
      "import os\n",
      "#os.chdir('data')\n",
      "d = np.loadtxt('abk20170827vmin.min', delimiter = '\\n', dtype=str)\n",
      "print(type(str(d)))"
     ],
     "language": "python",
     "metadata": {},
     "outputs": [
      {
       "output_type": "stream",
       "stream": "stdout",
       "text": [
        "<type 'str'>\n"
       ]
      }
     ],
     "prompt_number": 8
    },
    {
     "cell_type": "code",
     "collapsed": false,
     "input": [
      " def readCoordsFromOneFile(f):\n",
      "        data = np.loadtxt(str(f), delimiter = '\\n', dtype=str)\n",
      "        x,y,z = np.loadtxt(data[-1440:], dtype=float, usecols=[3,4,5], unpack=True)\n",
      "        return x,y,z"
     ],
     "language": "python",
     "metadata": {},
     "outputs": [],
     "prompt_number": 66
    },
    {
     "cell_type": "code",
     "collapsed": false,
     "input": [
      "readCoordsFromOneFile('abk20170827vmin.min')"
     ],
     "language": "python",
     "metadata": {},
     "outputs": [
      {
       "metadata": {},
       "output_type": "pyout",
       "prompt_number": 67,
       "text": [
        "(array([ 11307.7,  11308. ,  11308. , ...,  99999. ,  99999. ,  99999. ]),\n",
        " array([  1734.5,   1734.5,   1734.4, ...,  99999. ,  99999. ,  99999. ]),\n",
        " array([ 52018.7,  52018.6,  52018.3, ...,  99999. ,  99999. ,  99999. ]))"
       ]
      }
     ],
     "prompt_number": 67
    },
    {
     "cell_type": "code",
     "collapsed": false,
     "input": [
      "def readAllCoords():\n",
      "    data = {}\n",
      "    try:\n",
      "        os.chdir('data')\n",
      "    except:\n",
      "       pass\n",
      "\n",
      "    allfiles = os.listdir('.') \n",
      "    i = 0\n",
      "    for f in allfiles:\n",
      "        try:\n",
      "            d = Data(f)\n",
      "        except:\n",
      "           pass        \n",
      "    return data"
     ],
     "language": "python",
     "metadata": {},
     "outputs": [],
     "prompt_number": 18
    },
    {
     "cell_type": "code",
     "collapsed": false,
     "input": [
      "readAllCoords()"
     ],
     "language": "python",
     "metadata": {},
     "outputs": [
      {
       "metadata": {},
       "output_type": "pyout",
       "prompt_number": 19,
       "text": [
        "{}"
       ]
      }
     ],
     "prompt_number": 19
    },
    {
     "cell_type": "code",
     "collapsed": false,
     "input": [
      "\n",
      "for key in data.keys():\n",
      "    print(key)"
     ],
     "language": "python",
     "metadata": {},
     "outputs": [
      {
       "output_type": "stream",
       "stream": "stdout",
       "text": [
        "tuc20170827vmin.min\n",
        "bel20170827vmin.min\n",
        "hua20170827vmin.min\n",
        "pst20170827pmin.min\n",
        "lrm20170827pmin.min\n",
        "tam20170827vmin.min\n",
        "fur20170827vmin.min\n",
        "frd20170827vmin.min\n",
        "pag20170827pmin.min\n",
        "sod20170827vmin.min\n",
        "lon20170827vmin.min\n",
        "bsl20170827vmin.min\n",
        "hlp20170827vmin.min\n",
        "hrn20170827vmin.min\n",
        "phu20170827vmin.min\n",
        "lyc20170827vmin.min\n",
        "eyr20170827pmin.min\n",
        "ded20170827vmin.min\n",
        "asc20170827pmin.min\n",
        "shu20170827vmin.min\n",
        "cki20170827pmin.min\n",
        "new20170827vmin.min\n",
        "ppt20170827vmin.min\n",
        "frn20170827vmin.min\n",
        "mcq20170827pmin.min\n",
        "cnb20170827pmin.min\n",
        "asp20170827pmin.min\n",
        "sua20170827pmin.min\n",
        "kdu20170827pmin.min\n",
        "dlt20170827vmin.min\n",
        "wic20170827pmin.min\n",
        "sba20170827pmin.min\n",
        "brd20170827vmin.min\n",
        "ngk20170827pmin.min\n",
        "dou20170827vmin.min\n",
        "nur20170827pmin.min\n",
        "sfs20170827vmin.min\n",
        "brw20170827vmin.min\n",
        "teo20170827vmin.min\n",
        "gui20170827vmin.min\n",
        "abk20170827vmin.min\n",
        "maw20170827pmin.min\n",
        "ups20170827vmin.min\n",
        "sbl20170827pmin.min\n",
        "cta20170827pmin.min\n",
        "gua20170827vmin.min\n",
        "gan20170827vmin.min\n",
        "kou20170827vmin.min\n",
        "cmo20170827vmin.min\n",
        "gng20170827pmin.min\n",
        "clf20170827vmin.min\n",
        "mbo20170827vmin.min\n",
        "bou20170827vmin.min\n",
        "hon20170827vmin.min\n",
        "sit20170827vmin.min\n",
        "vss20170827pmin.min\n",
        "spt20170827vmin.min\n",
        "csy20170827pmin.min\n",
        "ebr20170827vmin.min\n",
        "kep20170827pmin.min\n",
        "wng20170827pmin.min\n",
        "ipm20170827vmin.min\n",
        "sjg20170827vmin.min\n",
        "api20170827pmin.min\n"
       ]
      }
     ],
     "prompt_number": 57
    },
    {
     "cell_type": "code",
     "collapsed": false,
     "input": [],
     "language": "python",
     "metadata": {},
     "outputs": []
    },
    {
     "cell_type": "code",
     "collapsed": false,
     "input": [],
     "language": "python",
     "metadata": {},
     "outputs": []
    }
   ],
   "metadata": {}
  }
 ]
}